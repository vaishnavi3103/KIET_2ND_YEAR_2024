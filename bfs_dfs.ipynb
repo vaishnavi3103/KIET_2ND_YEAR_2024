{
  "nbformat": 4,
  "nbformat_minor": 0,
  "metadata": {
    "colab": {
      "provenance": [],
      "authorship_tag": "ABX9TyP27w4sAqfUMqZhXuRGbCsh",
      "include_colab_link": true
    },
    "kernelspec": {
      "name": "python3",
      "display_name": "Python 3"
    },
    "language_info": {
      "name": "python"
    }
  },
  "cells": [
    {
      "cell_type": "markdown",
      "metadata": {
        "id": "view-in-github",
        "colab_type": "text"
      },
      "source": [
        "<a href=\"https://colab.research.google.com/github/vaishnavi3103/KIET_2ND_YEAR_2024/blob/master/bfs_dfs.ipynb\" target=\"_parent\"><img src=\"https://colab.research.google.com/assets/colab-badge.svg\" alt=\"Open In Colab\"/></a>"
      ]
    },
    {
      "cell_type": "markdown",
      "source": [
        "Level Order Traversal using BFS"
      ],
      "metadata": {
        "id": "CHmYuc3tDHIa"
      }
    },
    {
      "cell_type": "code",
      "source": [
        "# Python program to print level\n",
        "# order traversal using Queue\n",
        "\n",
        "class Node:\n",
        "    def __init__(self, key):\n",
        "        self.data = key\n",
        "        self.left = None\n",
        "        self.right = None\n",
        "\n",
        "# Iterative Method to print the\n",
        " height of a binary tree\n",
        "def printLevelOrder(root):\n",
        "\n",
        "    # Base Case\n",
        "    if root is None:\n",
        "        return\n",
        "\n",
        "    # Create an empty queue\n",
        "    # for level order traversal\n",
        "    queue = []\n",
        "\n",
        "    # Enqueue Root and initialize height\n",
        "    queue.append(root)\n",
        "\n",
        "    while(len(queue) > 0):\n",
        "\n",
        "        # Print front of queue and\n",
        "        # remove it from queue\n",
        "        print(queue[0].data, end=\" \")\n",
        "        node = queue.pop(0)\n",
        "\n",
        "        # Enqueue left child\n",
        "        if node.left is not None:\n",
        "            queue.append(node.left)\n",
        "\n",
        "        # Enqueue right child\n",
        "        if node.right is not None:\n",
        "            queue.append(node.right)\n",
        "\n",
        "\n",
        "# Driver Program to test above function\n",
        "if __name__ == '__main__':\n",
        "    root = Node(0)\n",
        "    root.left = Node(1)\n",
        "    root.right = Node(2)\n",
        "    root.left.left = Node(3)\n",
        "    root.left.right = Node(4)\n",
        "    root.right.left = Node(5)\n",
        "    root.right.right = Node(6)\n",
        "    printLevelOrder(root)\n"
      ],
      "metadata": {
        "colab": {
          "base_uri": "https://localhost:8080/"
        },
        "id": "Iq6ZcaQZDObb",
        "outputId": "6fbc4243-900e-4b3e-fef6-3a2a4954785f"
      },
      "execution_count": 3,
      "outputs": [
        {
          "output_type": "stream",
          "name": "stdout",
          "text": [
            "0 1 2 3 4 5 6 "
          ]
        }
      ]
    },
    {
      "cell_type": "code",
      "source": [
        "#class creation\n",
        "class Node:\n",
        "  def __init__(self, key):\n",
        "      self.data = key\n",
        "      self.left = None\n",
        "      self.right = None\n",
        "\n",
        "def printLevelOrder(root):\n",
        "  if root is None:\n",
        "      return\n",
        "\n",
        "queue = []\n",
        "queue.append(root)\n",
        "\n",
        "while(len(queue) > 0):\n",
        "  print(queue[0].data, end=\" \")\n",
        "  node = queue.pop(0)\n",
        "\n",
        "  if node.left is not None:\n",
        "    queue.append(node.left)\n",
        "\n",
        "  if node.right is not None:\n",
        "    queue.append(node.right)\n",
        "\n",
        "# main function\n",
        "if __name__ == '__main__':\n",
        "    root = Node(0)\n",
        "    root.left = Node(1)\n",
        "    root.right = Node(2)\n",
        "    root.left.left = Node(3)\n",
        "    root.left.right = Node(4)\n",
        "    root.right.left = Node(5)\n",
        "    root.right.right = Node(6)\n",
        "    printLevelOrder(root)\n"
      ],
      "metadata": {
        "colab": {
          "base_uri": "https://localhost:8080/"
        },
        "id": "ryx_ftbCHFe6",
        "outputId": "eab2dec3-634f-45fb-df7c-e6b687cd6317"
      },
      "execution_count": 8,
      "outputs": [
        {
          "output_type": "stream",
          "name": "stdout",
          "text": [
            "0 1 2 3 4 5 6 "
          ]
        }
      ]
    },
    {
      "cell_type": "markdown",
      "source": [
        "DFS in tree"
      ],
      "metadata": {
        "id": "-LJUtQiaJvCa"
      }
    },
    {
      "cell_type": "code",
      "source": [
        "#class Creation\n",
        "class Node:\n",
        "  def __init__(self,key):\n",
        "    self.data = key\n",
        "    self.left = None\n",
        "    self.right = None\n",
        "\n",
        "def dfs(root):\n",
        "  if root is None:\n",
        "    return\n",
        "  print(root.data, end = \" \")\n",
        "  dfs(root.left)\n",
        "  dfs(root.right)\n",
        "\n",
        "\n",
        "\n",
        "#main function\n",
        "if __name__ == '__main__':\n",
        "    root = Node(0)\n",
        "    root.left = Node(1)\n",
        "    root.right = Node(2)\n",
        "    root.left.left = Node(3)\n",
        "    root.left.right = Node(4)\n",
        "    root.right.left = Node(5)\n",
        "    root.right.right = Node(6)\n",
        "    dfs(root)\n",
        "\n",
        "\n"
      ],
      "metadata": {
        "colab": {
          "base_uri": "https://localhost:8080/"
        },
        "id": "6B9-m7BiJ4of",
        "outputId": "057376a2-8ea3-4a95-bd16-85d7663261f7"
      },
      "execution_count": 11,
      "outputs": [
        {
          "output_type": "stream",
          "name": "stdout",
          "text": [
            "0 1 3 4 2 5 6 "
          ]
        }
      ]
    }
  ]
}